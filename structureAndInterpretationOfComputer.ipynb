{
  "nbformat": 4,
  "nbformat_minor": 0,
  "metadata": {
    "colab": {
      "name": "structureAndInterpretationOfComputer.ipynb",
      "provenance": [],
      "authorship_tag": "ABX9TyOdBIk5FzAFivgUGWbSrSx2",
      "include_colab_link": true
    },
    "kernelspec": {
      "name": "python3",
      "display_name": "Python 3"
    },
    "language_info": {
      "name": "python"
    }
  },
  "cells": [
    {
      "cell_type": "markdown",
      "metadata": {
        "id": "view-in-github",
        "colab_type": "text"
      },
      "source": [
        "<a href=\"https://colab.research.google.com/github/the-last-crusaderr/tinkeringWithPython/blob/master/structureAndInterpretationOfComputer.ipynb\" target=\"_parent\"><img src=\"https://colab.research.google.com/assets/colab-badge.svg\" alt=\"Open In Colab\"/></a>"
      ]
    },
    {
      "cell_type": "markdown",
      "metadata": {
        "id": "U6i0Qg8mL-nN"
      },
      "source": [
        "Every powerful programming language has three features\n",
        "\n",
        "1. Primitive expression and statement (expression evaluates and statement executes)\n",
        "2. Means of Combination (combining expression with infix or function)\n",
        "3.Means of Abstraction  (there must be a way to bind a name with a combination,so that we can use it as a standalone with their own properties and behaviour)\n"
      ]
    },
    {
      "cell_type": "code",
      "metadata": {
        "colab": {
          "base_uri": "https://localhost:8080/"
        },
        "id": "s3nWSyL7LbRb",
        "outputId": "ab9c7fc2-0aa9-47fc-f44c-6470c76f9002"
      },
      "source": [
        "import math\n",
        "import operator as op\n",
        "op.add(4,3)"
      ],
      "execution_count": 3,
      "outputs": [
        {
          "output_type": "execute_result",
          "data": {
            "text/plain": [
              "7"
            ]
          },
          "metadata": {},
          "execution_count": 3
        }
      ]
    },
    {
      "cell_type": "markdown",
      "metadata": {
        "id": "ikPghrx_R5t2"
      },
      "source": [
        "Intrepretar  maintaing some kind of memory to keep track of binding values and name.So, that it can retreive later.This memory is known as **environement.**\n",
        "\n",
        "\n"
      ]
    },
    {
      "cell_type": "code",
      "metadata": {
        "colab": {
          "base_uri": "https://localhost:8080/"
        },
        "id": "-TkdawejQsSv",
        "outputId": "b25d8183-70d8-4e19-c7a5-9dbdd3b1da87"
      },
      "source": [
        "max"
      ],
      "execution_count": 4,
      "outputs": [
        {
          "output_type": "execute_result",
          "data": {
            "text/plain": [
              "<function max>"
            ]
          },
          "metadata": {},
          "execution_count": 4
        }
      ]
    },
    {
      "cell_type": "code",
      "metadata": {
        "colab": {
          "base_uri": "https://localhost:8080/"
        },
        "id": "sJsD8FaBTGtR",
        "outputId": "867eb73d-3b16-442b-d495-b2f6111c3bd6"
      },
      "source": [
        "f = max   #typedef is too easy in python,just use assignment ... binding just refrence to the value not the object(can be called shallow copy)\n",
        "f\n",
        "f = 2.1\n",
        "s = 2.2\n",
        "s == f"
      ],
      "execution_count": 13,
      "outputs": [
        {
          "output_type": "execute_result",
          "data": {
            "text/plain": [
              "True"
            ]
          },
          "metadata": {},
          "execution_count": 13
        }
      ]
    },
    {
      "cell_type": "markdown",
      "metadata": {
        "id": "qvdmv2F1gj5i"
      },
      "source": [
        "There are two kinds of function\n",
        "<br>\n",
        "1.**Pure Function** (just like a machine,takes inputs and produces outputs) <br>\n",
        "2.**Non Pure function** ( apart for doing the work of pure function, it also do some side effect)"
      ]
    },
    {
      "cell_type": "code",
      "metadata": {
        "colab": {
          "base_uri": "https://localhost:8080/"
        },
        "id": "AR5_YIOjTQle",
        "outputId": "9e2cc4ce-a49f-41d6-fd2c-77fc506897a2"
      },
      "source": [
        "# lets play a game to determine the function is pure of impure\n",
        "\n",
        "from operator import add\n",
        "\n",
        "add(4,5)                                  # this is a pure function taking two inputs and producing an output\n",
        "print(print(4,5))                       # it seems like a pure function\n",
        "\n",
        "\n",
        "#oops....print is non-pure function apart from returning return None,it also print the value that you have passed to it.\n",
        "# print can take arabitrary number of arguments, you have to consult the doc to understand the working of function"
      ],
      "execution_count": 25,
      "outputs": [
        {
          "output_type": "stream",
          "text": [
            "\n",
            "4 5\n",
            "None\n"
          ],
          "name": "stdout"
        }
      ]
    },
    {
      "cell_type": "code",
      "metadata": {
        "colab": {
          "base_uri": "https://localhost:8080/"
        },
        "id": "3Kt_Wj-ghaQH",
        "outputId": "e3a036ad-0ccb-4597-d302-cc471c69eb83"
      },
      "source": [
        "#let make a user-defined pure function square\n",
        "# we know that, we have the function to multiply operand\n",
        "\n",
        "from operator import mul,add\n",
        "\n",
        "def square(x):                                         # x is formal parameter \n",
        "  return mul(x,x)\n",
        "\n",
        "\n",
        "square(3)                                              # 3 is argument passed       \n",
        "square(5)\n",
        "\n",
        "\n",
        "\n",
        "# make sumSquare pure function\n",
        "\n",
        "\n",
        "def sumSquare(x,y):\n",
        "  return add( square(x),square(y))\n",
        "\n",
        "\n",
        "sumSquare(3,4)"
      ],
      "execution_count": 31,
      "outputs": [
        {
          "output_type": "execute_result",
          "data": {
            "text/plain": [
              "25"
            ]
          },
          "metadata": {},
          "execution_count": 31
        }
      ]
    },
    {
      "cell_type": "code",
      "metadata": {
        "id": "ISdaq-4GkSY_"
      },
      "source": [
        "# lets make a generalised function that takes arbitrary number of arguments..\n",
        "\n",
        "\n"
      ],
      "execution_count": null,
      "outputs": []
    }
  ]
}