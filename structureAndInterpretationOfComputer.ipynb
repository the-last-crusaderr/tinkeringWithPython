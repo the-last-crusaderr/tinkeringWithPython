{
  "nbformat": 4,
  "nbformat_minor": 0,
  "metadata": {
    "colab": {
      "name": "structureAndInterpretationOfComputer.ipynb",
      "provenance": [],
      "authorship_tag": "ABX9TyNaPnvutaud3oGNhtVHlmSB",
      "include_colab_link": true
    },
    "kernelspec": {
      "name": "python3",
      "display_name": "Python 3"
    },
    "language_info": {
      "name": "python"
    }
  },
  "cells": [
    {
      "cell_type": "markdown",
      "metadata": {
        "id": "view-in-github",
        "colab_type": "text"
      },
      "source": [
        "<a href=\"https://colab.research.google.com/github/the-last-crusaderr/intermediate-python-course/blob/master/structureAndInterpretationOfComputer.ipynb\" target=\"_parent\"><img src=\"https://colab.research.google.com/assets/colab-badge.svg\" alt=\"Open In Colab\"/></a>"
      ]
    },
    {
      "cell_type": "markdown",
      "metadata": {
        "id": "U6i0Qg8mL-nN"
      },
      "source": [
        "Every powerful programming language has three features\n",
        "\n",
        "1. Primitive expression and statement (expression evaluates and statement executes)\n",
        "2. Means of Combination (combining expression with infix or function)\n",
        "3.Means of Abstraction\n"
      ]
    },
    {
      "cell_type": "code",
      "metadata": {
        "colab": {
          "base_uri": "https://localhost:8080/"
        },
        "id": "s3nWSyL7LbRb",
        "outputId": "ab9c7fc2-0aa9-47fc-f44c-6470c76f9002"
      },
      "source": [
        "import math\n",
        "import operator as op\n",
        "op.add(4,3)"
      ],
      "execution_count": 3,
      "outputs": [
        {
          "output_type": "execute_result",
          "data": {
            "text/plain": [
              "7"
            ]
          },
          "metadata": {},
          "execution_count": 3
        }
      ]
    },
    {
      "cell_type": "markdown",
      "metadata": {
        "id": "ikPghrx_R5t2"
      },
      "source": [
        "Intrepretar  maintaing some kind of memory to keep track of binding values and name.So, that it can retreive later.This memory is known as **environement.**\n",
        "\n",
        "\n"
      ]
    },
    {
      "cell_type": "code",
      "metadata": {
        "colab": {
          "base_uri": "https://localhost:8080/"
        },
        "id": "-TkdawejQsSv",
        "outputId": "b25d8183-70d8-4e19-c7a5-9dbdd3b1da87"
      },
      "source": [
        "max"
      ],
      "execution_count": 4,
      "outputs": [
        {
          "output_type": "execute_result",
          "data": {
            "text/plain": [
              "<function max>"
            ]
          },
          "metadata": {},
          "execution_count": 4
        }
      ]
    },
    {
      "cell_type": "code",
      "metadata": {
        "colab": {
          "base_uri": "https://localhost:8080/"
        },
        "id": "sJsD8FaBTGtR",
        "outputId": "867eb73d-3b16-442b-d495-b2f6111c3bd6"
      },
      "source": [
        "f = max   #typedef is too easy in python,just use assignment ... binding just refrence to the value not the object(can be called shallow copy)\n",
        "f\n",
        "f = 2.1\n",
        "s = 2.2\n",
        "s == f"
      ],
      "execution_count": 13,
      "outputs": [
        {
          "output_type": "execute_result",
          "data": {
            "text/plain": [
              "True"
            ]
          },
          "metadata": {},
          "execution_count": 13
        }
      ]
    },
    {
      "cell_type": "code",
      "metadata": {
        "id": "AR5_YIOjTQle"
      },
      "source": [
        ""
      ],
      "execution_count": null,
      "outputs": []
    }
  ]
}