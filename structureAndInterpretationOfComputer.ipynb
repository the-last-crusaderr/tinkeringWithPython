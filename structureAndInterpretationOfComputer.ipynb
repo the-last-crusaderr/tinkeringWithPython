{
  "nbformat": 4,
  "nbformat_minor": 0,
  "metadata": {
    "colab": {
      "name": "structureAndInterpretationOfComputer.ipynb",
      "provenance": [],
      "toc_visible": true,
      "authorship_tag": "ABX9TyPzw+2+4Z9uX5m8BDEpjh6R",
      "include_colab_link": true
    },
    "kernelspec": {
      "name": "python3",
      "display_name": "Python 3"
    },
    "language_info": {
      "name": "python"
    }
  },
  "cells": [
    {
      "cell_type": "markdown",
      "metadata": {
        "id": "view-in-github",
        "colab_type": "text"
      },
      "source": [
        "<a href=\"https://colab.research.google.com/github/the-last-crusaderr/tinkeringWithPython/blob/master/structureAndInterpretationOfComputer.ipynb\" target=\"_parent\"><img src=\"https://colab.research.google.com/assets/colab-badge.svg\" alt=\"Open In Colab\"/></a>"
      ]
    },
    {
      "cell_type": "markdown",
      "metadata": {
        "id": "U6i0Qg8mL-nN"
      },
      "source": [
        "Every powerful programming language has three features\n",
        "\n",
        "1. Primitive expression and statement (expression evaluates and statement executes)\n",
        "2. Means of Combination (combining expression with infix or function)\n",
        "3.Means of Abstraction  (there must be a way to bind a name with a combination,so that we can use it as a standalone with their own properties and behaviour)\n"
      ]
    },
    {
      "cell_type": "markdown",
      "metadata": {
        "id": "cutUThClK6PR"
      },
      "source": [
        "# Essence of modern programming\n",
        "\n",
        "# Functional Abstraction \n",
        "# Data Abstraction"
      ]
    },
    {
      "cell_type": "code",
      "metadata": {
        "colab": {
          "base_uri": "https://localhost:8080/"
        },
        "id": "s3nWSyL7LbRb",
        "outputId": "ab9c7fc2-0aa9-47fc-f44c-6470c76f9002"
      },
      "source": [
        "import math\n",
        "import operator as op\n",
        "op.add(4,3)"
      ],
      "execution_count": 3,
      "outputs": [
        {
          "output_type": "execute_result",
          "data": {
            "text/plain": [
              "7"
            ]
          },
          "metadata": {},
          "execution_count": 3
        }
      ]
    },
    {
      "cell_type": "markdown",
      "metadata": {
        "id": "ikPghrx_R5t2"
      },
      "source": [
        "Intrepretar  maintaing some kind of memory to keep track of binding values and name.So, that it can retreive later.This memory is known as **environement.**\n",
        "\n",
        "\n"
      ]
    },
    {
      "cell_type": "code",
      "metadata": {
        "colab": {
          "base_uri": "https://localhost:8080/"
        },
        "id": "-TkdawejQsSv",
        "outputId": "b25d8183-70d8-4e19-c7a5-9dbdd3b1da87"
      },
      "source": [
        "max"
      ],
      "execution_count": 4,
      "outputs": [
        {
          "output_type": "execute_result",
          "data": {
            "text/plain": [
              "<function max>"
            ]
          },
          "metadata": {},
          "execution_count": 4
        }
      ]
    },
    {
      "cell_type": "code",
      "metadata": {
        "colab": {
          "base_uri": "https://localhost:8080/"
        },
        "id": "sJsD8FaBTGtR",
        "outputId": "867eb73d-3b16-442b-d495-b2f6111c3bd6"
      },
      "source": [
        "f = max   #typedef is too easy in python,just use assignment ... binding just refrence to the value not the object(can be called shallow copy)\n",
        "f\n",
        "f = 2.1\n",
        "s = 2.2\n",
        "s == f"
      ],
      "execution_count": 13,
      "outputs": [
        {
          "output_type": "execute_result",
          "data": {
            "text/plain": [
              "True"
            ]
          },
          "metadata": {},
          "execution_count": 13
        }
      ]
    },
    {
      "cell_type": "markdown",
      "metadata": {
        "id": "qvdmv2F1gj5i"
      },
      "source": [
        "There are two kinds of function\n",
        "<br>\n",
        "1.**Pure Function** (just like a machine,takes inputs and produces outputs) <br>\n",
        "2.**Non Pure function** ( apart for doing the work of pure function, it also do some side effect)<br>\n",
        "\n",
        "\n",
        "<br>\n",
        "Function are called call expression"
      ]
    },
    {
      "cell_type": "code",
      "metadata": {
        "colab": {
          "base_uri": "https://localhost:8080/"
        },
        "id": "AR5_YIOjTQle",
        "outputId": "9e2cc4ce-a49f-41d6-fd2c-77fc506897a2"
      },
      "source": [
        "# lets play a game to determine the function is pure of impure\n",
        "\n",
        "from operator import add\n",
        "\n",
        "add(4,5)                                  # this is a pure function taking two inputs and producing an output\n",
        "print(print(4,5))                       # it seems like a pure function\n",
        "\n",
        "\n",
        "#oops....print is non-pure function apart from returning return None,it also print the value that you have passed to it.\n",
        "# print can take arabitrary number of arguments, you have to consult the doc to understand the working of function"
      ],
      "execution_count": 25,
      "outputs": [
        {
          "output_type": "stream",
          "text": [
            "\n",
            "4 5\n",
            "None\n"
          ],
          "name": "stdout"
        }
      ]
    },
    {
      "cell_type": "code",
      "metadata": {
        "colab": {
          "base_uri": "https://localhost:8080/"
        },
        "id": "3Kt_Wj-ghaQH",
        "outputId": "e3a036ad-0ccb-4597-d302-cc471c69eb83"
      },
      "source": [
        "#let make a user-defined pure function square\n",
        "# we know that, we have the function to multiply operand\n",
        "\n",
        "from operator import mul,add\n",
        "\n",
        "def square(x):                                         # x is formal parameter \n",
        "  return mul(x,x)\n",
        "\n",
        "\n",
        "square(3)                                              # 3 is argument passed       \n",
        "square(5)\n",
        "\n",
        "\n",
        "\n",
        "# make sumSquare pure function\n",
        "\n",
        "\n",
        "def sumSquare(x,y):                                               # you can't tell just by seeing, the function is in-built, user-defined or imported by module\n",
        "  return add( square(x),square(y))                                # everyone behaves same\n",
        "\n",
        "\n",
        "sumSquare(3,4)"
      ],
      "execution_count": 31,
      "outputs": [
        {
          "output_type": "execute_result",
          "data": {
            "text/plain": [
              "25"
            ]
          },
          "metadata": {},
          "execution_count": 31
        }
      ]
    },
    {
      "cell_type": "code",
      "metadata": {
        "colab": {
          "base_uri": "https://localhost:8080/"
        },
        "id": "ISdaq-4GkSY_",
        "outputId": "46c30cc5-acab-49db-ddff-0c11051bf4c7"
      },
      "source": [
        "# understand the concept of global frame and local frame\n",
        "# global binding and local binding \n",
        "# when the binding become out of scope\n",
        "# how lexical scope works in general\n",
        "\n",
        "\n",
        "\n",
        "\n",
        "# Lets write Fibonacci sequence\n",
        "\n",
        "# 0,1,1,2,3,5,8,13,21........\n",
        "\n",
        "\n",
        "def fibonacci(endCount):\n",
        "  \"\"\"\"This return the Fibonacci sequence till the endCount steps\n",
        "  \n",
        "  >>> fibonacci(10)\n",
        "  0 1 1 2 3 5 8 13 21 34 55 \n",
        "  \n",
        "  \"\"\"\n",
        "  prev = 0\n",
        "  current = 1\n",
        "  k = 1\n",
        "  print(prev,end=\" \")\n",
        "  while(k<= endCount):\n",
        "    print(current,end=\" \")\n",
        "    prev,current = current,prev+current        # rebinding the variales\n",
        "    k += 1\n",
        "\n",
        "\n",
        "\n",
        "def fibonacci_test():\n",
        "  assert fibonacci(1) == 0 , 'The fibonacci sequence should be 0' \n",
        "  assert fibonacci(2) == print(0,1,sep=\" \",end=\" \"), 'The fibonacci sequence should be 0 1'\n",
        "\n",
        "\n",
        "\n",
        "\n",
        "fibonacci(10)    \n",
        "\n",
        "\n",
        "\n",
        "\n",
        "\n"
      ],
      "execution_count": 13,
      "outputs": [
        {
          "output_type": "stream",
          "text": [
            "0 1 1 2 3 5 8 13 21 34 55 "
          ],
          "name": "stdout"
        }
      ]
    },
    {
      "cell_type": "markdown",
      "metadata": {
        "id": "43xT1fU5Tlni"
      },
      "source": [
        "# What python interpretor does at the high level-\n",
        "\n",
        "## It just executes the program.\n",
        "\n",
        "# What is program?\n",
        "\n",
        "## The program compose of statement.Statement may be simple or compound\n",
        "\n",
        "#Simple vs Compound statement\n",
        "\n",
        "## Compound statement end with semilcolon,compose of simple statememt (def,if,for,while)\n",
        "<br>\n",
        "\n",
        "\n",
        "\n",
        "---\n",
        "\n",
        "\n",
        "\n",
        "---\n",
        "\n",
        "\n",
        "\n",
        "\n",
        "\n",
        "\n",
        "\n",
        "\n",
        "## Simple statement may contain subexpression as components.(return,assignment,function call)\n",
        "\n",
        "---\n",
        "# How to test your program\n",
        "\n",
        "  <br>\n",
        "\n",
        "  1. Use assertion statement \n",
        "  2. Use docstring test\n",
        "  \n",
        "\n",
        "--END--"
      ]
    },
    {
      "cell_type": "code",
      "metadata": {
        "colab": {
          "base_uri": "https://localhost:8080/"
        },
        "id": "6Zwz-YKBUwdy",
        "outputId": "3a46665d-cb94-4e35-c795-2c1ad06c06c3"
      },
      "source": [
        "# The function is first class citizen \n",
        "# use as arguments, use in return statement, can be defined inside another function, use in data structure\n",
        "\n",
        "\n",
        "\n",
        "\n",
        "\n",
        "\n",
        "def summation(initial,end,func):\n",
        "  def square(n):\n",
        "    return pow(n,2)\n",
        "\n",
        "  def cube(n):  \n",
        "    return pow(n,3)\n",
        "\n",
        "  def same(n):\n",
        "    return n\n",
        "\n",
        "  counter = initial\n",
        "  total = 0\n",
        "  while(counter <= end):\n",
        "    total += func(counter)\n",
        "    counter += 1\n",
        "\n",
        "  return total  \n",
        "\n",
        "\n",
        "summation(1,10,cube)  "
      ],
      "execution_count": 9,
      "outputs": [
        {
          "output_type": "execute_result",
          "data": {
            "text/plain": [
              "3025"
            ]
          },
          "metadata": {},
          "execution_count": 9
        }
      ]
    },
    {
      "cell_type": "markdown",
      "metadata": {
        "id": "V87vUJZrIzpE"
      },
      "source": [
        "# Tinkering with object oriented behaviour of python\n",
        "\n",
        "## Every value is object in Python"
      ]
    },
    {
      "cell_type": "code",
      "metadata": {
        "colab": {
          "base_uri": "https://localhost:8080/"
        },
        "id": "FXS0iy17BrVk",
        "outputId": "03488c13-bfb0-4fda-b2f3-22e1c8a65186"
      },
      "source": [
        "from datetime import date                           #import date class from datetime module\n",
        "\n",
        "today = date.today()\n",
        "\n",
        "type(today)"
      ],
      "execution_count": 29,
      "outputs": [
        {
          "output_type": "execute_result",
          "data": {
            "text/plain": [
              "datetime.date"
            ]
          },
          "metadata": {},
          "execution_count": 29
        }
      ]
    },
    {
      "cell_type": "code",
      "metadata": {
        "colab": {
          "base_uri": "https://localhost:8080/"
        },
        "id": "BcnXXLsQHkHU",
        "outputId": "67f4e28e-5d1e-43d1-c9b6-bcc4eb36400c"
      },
      "source": [
        "# lets implement a way to represent rational number and methods to manipulate them\n",
        "\n",
        "\n",
        "\n",
        "def make_rational(x,y):\n",
        "  return (x,y)\n",
        "\n",
        "\n",
        "def getitem_pair(p,n):\n",
        "  if n==0:\n",
        "    return p[0]\n",
        "  elif n==1:\n",
        "    return p[1]  \n",
        "  else:  \n",
        "    return 'bad input'\n",
        "\n",
        "def add_rational(n,m):\n",
        "  return make_rational(n[0] * m[1] + n[1] * m[0], n[1] * m[1])\n",
        "\n",
        "\n",
        "def mult_rational(n,m):  \n",
        "  return make_rational(n[0] * m[0],n[1] * m[1])\n",
        "\n",
        "\n",
        "\n",
        "def div_rational(n,m):\n",
        "  return make_rational(n[0] * m[1],n[1] * m[0])\n",
        "\n",
        "\n",
        "\n",
        "\n",
        "\n",
        "half = make_rational(1,2)\n",
        "one_third = make_rational(1,3)\n",
        "\n",
        "\n",
        "add_rational(half,one_third)\n",
        "\n",
        "mult_rational(half,one_third)\n",
        "\n",
        "div_rational(half,one_third)\n",
        "\n"
      ],
      "execution_count": 14,
      "outputs": [
        {
          "output_type": "execute_result",
          "data": {
            "text/plain": [
              "2"
            ]
          },
          "metadata": {},
          "execution_count": 14
        }
      ]
    },
    {
      "cell_type": "code",
      "metadata": {
        "colab": {
          "base_uri": "https://localhost:8080/"
        },
        "id": "p9hOixtrJmkR",
        "outputId": "fc71c925-6a80-447d-9cb9-0cdab2948a14"
      },
      "source": [
        "# let make recursive list.....\n",
        "\n",
        "\n",
        "\n",
        "\n",
        "def make_node(value,next=None):\n",
        "  return (value,next)\n",
        "\n",
        "def getitem_pair(node,num):\n",
        "  return node[num]\n",
        "\n",
        "\n",
        "def first(node):\n",
        "  return node[0]\n",
        "\n",
        "\n",
        "\n",
        "\n",
        "n1 = make_node(3,None)\n",
        "\n",
        "n2 = make_node(2,None)\n",
        "\n",
        "n1 = make_node(n1[0],n2)\n",
        "\n",
        "print(getitem_pair(n1,1))\n",
        "\n"
      ],
      "execution_count": 26,
      "outputs": [
        {
          "output_type": "stream",
          "text": [
            "(2, None)\n"
          ],
          "name": "stdout"
        }
      ]
    },
    {
      "cell_type": "code",
      "metadata": {
        "colab": {
          "base_uri": "https://localhost:8080/"
        },
        "id": "0LisOU4ISTBx",
        "outputId": "0b14812c-bf59-4e9a-b4f1-9a0ca1960061"
      },
      "source": [
        "t = (1,2,3)\n",
        "\n",
        "def square(m):\n",
        "  return m*m\n",
        "\n",
        "x = tuple(map(square,t))\n",
        "x\n"
      ],
      "execution_count": 8,
      "outputs": [
        {
          "output_type": "execute_result",
          "data": {
            "text/plain": [
              "(1, 4, 9)"
            ]
          },
          "metadata": {},
          "execution_count": 8
        }
      ]
    },
    {
      "cell_type": "markdown",
      "metadata": {
        "id": "ZTumDCODvCFD"
      },
      "source": [
        "# Sequence Abstraction\n",
        "\n",
        "\n",
        "# There are different ways in which u can do sequence abstraction in python\n",
        "\n",
        "1. Tuple\n",
        "2. Range() function\n",
        "3. String\n",
        "4.\n",
        "\n",
        "\n",
        "\n",
        "# Sequence abstraction supports following operations-\n",
        "\n",
        "\n",
        "1. Constructor present\n",
        "1. Length property    (count also present)\n",
        "2. Element selection  (indexing)\n",
        "3. Membership function   (present or not)\n",
        "4. Slicing operation      (cutting the sequence into smaller sequence)\n",
        "\n",
        "\n",
        "\n",
        "# The best way to use functional programming by using pipelines"
      ]
    },
    {
      "cell_type": "code",
      "metadata": {
        "id": "7B0YXKtBr4SP"
      },
      "source": [
        "x = range(4)\n"
      ],
      "execution_count": 17,
      "outputs": []
    },
    {
      "cell_type": "code",
      "metadata": {
        "colab": {
          "base_uri": "https://localhost:8080/"
        },
        "id": "kM4V0FhXumny",
        "outputId": "b99b8ef9-ecdc-422a-bf15-8e0e962d8e1b"
      },
      "source": [
        "#Solve this\n",
        "\n",
        "#  Sum the even members of the first n Fibonacci numbers.\n",
        "# List the letters in the acronym for a name, which include$s the first letter of each capitalized word.\n",
        "\n",
        "\n",
        "\n",
        "\n",
        "def sum_of_fibonacci(n):\n",
        "  prev = 0\n",
        "  current = 1\n",
        "  for count in range(1,n):\n",
        "    prev,current = current,prev+current\n",
        "  return current\n",
        "\n",
        "\n",
        "sum_of_fibonacci(4)    \n",
        "\n",
        "\n",
        "\n",
        "\n",
        "\n"
      ],
      "execution_count": 41,
      "outputs": [
        {
          "output_type": "execute_result",
          "data": {
            "text/plain": [
              "3"
            ]
          },
          "metadata": {},
          "execution_count": 41
        }
      ]
    },
    {
      "cell_type": "code",
      "metadata": {
        "id": "LIt8U1iOxtf3"
      },
      "source": [
        ""
      ],
      "execution_count": 20,
      "outputs": []
    }
  ]
}