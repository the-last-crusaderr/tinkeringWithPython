{
  "nbformat": 4,
  "nbformat_minor": 0,
  "metadata": {
    "colab": {
      "name": "theArtOfComputerOfProgramming(1).ipynb",
      "provenance": [],
      "authorship_tag": "ABX9TyOuKFsR5hM7aImQCyduhaJ6",
      "include_colab_link": true
    },
    "kernelspec": {
      "name": "python3",
      "display_name": "Python 3"
    },
    "language_info": {
      "name": "python"
    }
  },
  "cells": [
    {
      "cell_type": "markdown",
      "metadata": {
        "id": "view-in-github",
        "colab_type": "text"
      },
      "source": [
        "<a href=\"https://colab.research.google.com/github/the-last-crusaderr/tinkeringWithPython/blob/master/theArtOfComputerOfProgramming(1).ipynb\" target=\"_parent\"><img src=\"https://colab.research.google.com/assets/colab-badge.svg\" alt=\"Open In Colab\"/></a>"
      ]
    },
    {
      "cell_type": "markdown",
      "metadata": {
        "id": "gF6yA1O2XHAr"
      },
      "source": [
        "# Volume 1\n",
        "# Section 2.1\n",
        "\n",
        "1. There are many information are present in the reality of any situation or event.\n",
        "2. You need to focus on what really matter.\n",
        "3. Use the variables that are relavant.\n",
        "4. The details can be seen as the level of value. Focus on variable that corelate with result or have higher contribution to the result.\n",
        "5. Selecting the good data structure is a Skill. The choice depends on various factor. Learn to analyse it.\n"
      ]
    },
    {
      "cell_type": "code",
      "metadata": {
        "colab": {
          "base_uri": "https://localhost:8080/"
        },
        "id": "GFri0gmrvecN",
        "outputId": "5f1945e0-81b0-484d-f2c4-436db24b8641"
      },
      "source": [
        "class CardProcessing:\n",
        "  def __init__(self,card):\n",
        "    self.head = card\n",
        "\n",
        "\n",
        "  def insertionAtTop(self,card):\n",
        "    card.next = self.head\n",
        "    self.head = card\n",
        "\n",
        "\n",
        "  def deletionFromTop(self):\n",
        "    temp = self.head.next\n",
        "    self.head.next = None\n",
        "    self.head = temp\n",
        "\n",
        "  def showTop(self):\n",
        "    if self.head.tag == 1:\n",
        "      print(self.head.title)\n",
        "    else:  \n",
        "      print('Card is head down')\n",
        "\n",
        "\n",
        "  def topCard(self):\n",
        "    return self.head\n",
        "\n",
        "\n",
        "  def contents(self,location):\n",
        "    return (location.tag,location.suit,location.rank,location.title)\n",
        "\n",
        "\n",
        "  def location(self,content):\n",
        "    '''the arguments of contents should be of type dictionary'''                                 \n",
        "    temp = self.topCard()\n",
        "    #return temp.suit\n",
        "    prev = temp\n",
        "    while(temp != None):\n",
        "      if( temp.tag == content.get('tag') and temp.suit == content.get('suit') and temp.rank == content.get('rank') and temp.title == content.get('title') ):\n",
        "        return prev.next\n",
        "      prev = temp  \n",
        "      temp = temp.next  \n",
        "\n",
        "    return 'Nothing found'            \n",
        "\n",
        "\n",
        "\n",
        "\n",
        "\n",
        "class Card:\n",
        "  '''  Breakdown of constructor function  \n",
        "        tag : faceUp -> 1 and faceDown -> 0\n",
        "        suit : club,diamond,heart,spades -> 1,2,3,4\n",
        "        rank: [ace,deuce.......jack,queen,king] -> 1....12,13\n",
        "        next: reference to next card\n",
        "        title: 5 character name of the card\n",
        "       '''\n",
        "  def __init__(self,tag,suit,rank,next,title):\n",
        "    self.tag = tag\n",
        "    self.suit = suit\n",
        "    self.rank = rank\n",
        "    self.next = next \n",
        "    self.title = title\n",
        "\n",
        "\n",
        "\n",
        "c1 = Card(1,1,10,None,'10')    \n",
        "\n",
        "piles = CardProcessing(c1)\n",
        "piles.insertionAtTop(Card(0,4,3,None,'3') )\n",
        "piles.insertionAtTop(Card(0,2,2,None,'deuce'))\n",
        "\n",
        "\n",
        "# ex1    a-> suit(next(top))        b-> next(next(next(top)))\n",
        "\n",
        "\n",
        "#a \n",
        "\n",
        "suitOfNextToTop = piles.topCard().next.suit \n",
        "\n",
        "print(suitOfNextToTop)\n",
        "\n",
        "\n",
        "#b\n",
        "\n",
        "result = piles.topCard().next.next.next                    # head(c1) -> c2 -> c3 -> None\n",
        "\n",
        "print(result)\n",
        "\n",
        "\n",
        "#-------------------------------------------------------------\n",
        "\n",
        "\n",
        "#ex2   location(v) = contents and contents(location) = values\n",
        "\n",
        "piles.contents(piles.topCard().next)\n",
        "\n",
        "address = piles.location({'tag':0,'suit':4,'rank':3,'title':'3'})\n",
        "\n",
        "piles.contents(address)\n",
        "\n",
        "\n",
        "\n",
        "#-----------------------------------------------------------------\n",
        "\n"
      ],
      "execution_count": 32,
      "outputs": [
        {
          "output_type": "stream",
          "text": [
            "4\n",
            "None\n"
          ],
          "name": "stdout"
        },
        {
          "output_type": "execute_result",
          "data": {
            "text/plain": [
              "(0, 4, 3, '3')"
            ]
          },
          "metadata": {},
          "execution_count": 32
        }
      ]
    },
    {
      "cell_type": "markdown",
      "metadata": {
        "id": "VkMhD1SzXWAD"
      },
      "source": [
        "# Section 2.2\n",
        "\n",
        "# Stacks , Queues and Deque\n",
        "\n",
        "1. Stacks -> LIFO  (insertion,deletion at one end)   ....Like our mind\n",
        "2. Queue -> FIFO    (insertion and deletion at two different end)\n",
        "3. Deque -> More general list (input restricted and output restricted)\n",
        "\n",
        "\n",
        "\n"
      ]
    },
    {
      "cell_type": "code",
      "metadata": {
        "colab": {
          "base_uri": "https://localhost:8080/"
        },
        "id": "Jd8FaeHmwXvR",
        "outputId": "7c9f40e7-f9e9-474b-9368-9a2a11566a27"
      },
      "source": [
        "#ex 2.2.1\n",
        "\n",
        "\n",
        "# problem no.2\n",
        "\n",
        "# i can solve this with class easily. Lets do it with nonlocal variable\n",
        "\n",
        "\n",
        "\n",
        "def creator(arr,n):\n",
        "  output = []\n",
        "  def stack():\n",
        "    nonlocal arr,n\n",
        "    return arr\n",
        "\n",
        "  def push(elem):  \n",
        "    nonlocal arr,n\n",
        "    arr.append(elem)\n",
        "    n += 1\n",
        "    return arr\n",
        "\n",
        "  def pop():\n",
        "    nonlocal arr,n,output\n",
        "    if n == 0:\n",
        "      print('Nothing to pop')\n",
        "    else:\n",
        "      n -= 1  \n",
        "      output.append(arr.pop())\n",
        "    return output\n",
        "\n",
        "  return (stack,push,pop)  \n",
        "\n",
        "\n",
        "\n",
        "\n",
        "\n",
        "\n",
        "\n",
        "s = creator([1],1)  \n",
        "\n",
        "s[1](2)\n",
        "\n",
        "s[2]()\n",
        "\n",
        "s[1](3)\n",
        "\n",
        "s[1](4)\n",
        "\n",
        "s[2]()\n",
        "\n",
        "s[2]()\n",
        "\n",
        "s[2]()\n",
        "\n",
        "\n"
      ],
      "execution_count": 20,
      "outputs": [
        {
          "output_type": "execute_result",
          "data": {
            "text/plain": [
              "[2, 4, 3, 1]"
            ]
          },
          "metadata": {},
          "execution_count": 20
        }
      ]
    },
    {
      "cell_type": "code",
      "metadata": {
        "id": "T1O_lflqC1aC"
      },
      "source": [
        ""
      ],
      "execution_count": null,
      "outputs": []
    }
  ]
}